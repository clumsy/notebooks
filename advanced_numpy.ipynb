{
 "cells": [
  {
   "cell_type": "markdown",
   "id": "e835604b-11c1-40a5-87c0-ab3d65a7aae6",
   "metadata": {},
   "source": [
    "# [Advanced Numpy](https://medium.com/towards-data-science/advanced-numpy-master-stride-tricks-with-25-illustrated-exercises-923a9393ab20#a323)"
   ]
  },
  {
   "cell_type": "code",
   "execution_count": 1,
   "id": "023d70b6-489c-421c-be22-8451510f0c6a",
   "metadata": {},
   "outputs": [],
   "source": [
    "import numpy as np\n",
    "from numpy.lib.stride_tricks import as_strided"
   ]
  },
  {
   "cell_type": "markdown",
   "id": "a304afef-0325-4211-b316-7d236fee29db",
   "metadata": {},
   "source": [
    "## Exercise 1"
   ]
  },
  {
   "cell_type": "code",
   "execution_count": 2,
   "id": "a6bc2e73-f542-41af-9af0-9fff6b4545be",
   "metadata": {},
   "outputs": [
    {
     "data": {
      "text/plain": [
       "array([1, 2, 3], dtype=int8)"
      ]
     },
     "execution_count": 2,
     "metadata": {},
     "output_type": "execute_result"
    }
   ],
   "source": [
    "e = np.arange(1, 26, dtype=np.int8).reshape(5, 5)\n",
    "a = as_strided(e, shape=(3,), strides=(e.itemsize * 1,))\n",
    "assert np.array_equal(a, e[0, :3])\n",
    "a"
   ]
  },
  {
   "cell_type": "markdown",
   "id": "4a02240a-0722-4bb5-9650-92887893d94f",
   "metadata": {},
   "source": [
    "## Exercise 2"
   ]
  },
  {
   "cell_type": "code",
   "execution_count": 3,
   "id": "9cec03c4-3f97-4a77-bc77-ab9852be611a",
   "metadata": {},
   "outputs": [
    {
     "data": {
      "text/plain": [
       "array([1, 2, 3, 4, 5, 6, 7, 8], dtype=int8)"
      ]
     },
     "execution_count": 3,
     "metadata": {},
     "output_type": "execute_result"
    }
   ],
   "source": [
    "e = np.arange(1, 26, dtype=np.int8).reshape(5, 5)\n",
    "a = as_strided(e, shape=(8,), strides=(e.itemsize * 1,))\n",
    "a"
   ]
  },
  {
   "cell_type": "markdown",
   "id": "13840c4b-4439-4db6-aaad-d031ad2f873c",
   "metadata": {},
   "source": [
    "## Exercise 3"
   ]
  },
  {
   "cell_type": "code",
   "execution_count": 4,
   "id": "6f3a36da-2762-43ed-8380-e6bed0e0308e",
   "metadata": {},
   "outputs": [
    {
     "data": {
      "text/plain": [
       "array([ 1,  2,  3,  4,  5,  6,  7,  8,  9, 10, 11, 12, 13, 14, 15, 16, 17,\n",
       "       18, 19, 20, 21, 22, 23, 24, 25], dtype=int16)"
      ]
     },
     "execution_count": 4,
     "metadata": {},
     "output_type": "execute_result"
    }
   ],
   "source": [
    "e = np.arange(1, 26, dtype=np.int16).reshape(5, 5)\n",
    "a = as_strided(e, shape=(e.size,), strides=(e.itemsize * 1,))\n",
    "assert np.array_equal(a, e.ravel())\n",
    "a"
   ]
  },
  {
   "cell_type": "markdown",
   "id": "c0f70bdb-a144-4b51-993e-e70ae728bcce",
   "metadata": {},
   "source": [
    "## Exercise 4"
   ]
  },
  {
   "cell_type": "code",
   "execution_count": 5,
   "id": "87724310-3798-43e9-884d-2a8ee58b93db",
   "metadata": {},
   "outputs": [
    {
     "data": {
      "text/plain": [
       "array([1, 3, 5], dtype=int8)"
      ]
     },
     "execution_count": 5,
     "metadata": {},
     "output_type": "execute_result"
    }
   ],
   "source": [
    "e = np.arange(1, 26, dtype=np.int8).reshape(5, 5)\n",
    "a = as_strided(e, shape=(3,), strides=(e.itemsize * 2,))\n",
    "assert np.array_equal(a, e[0, ::2])\n",
    "a"
   ]
  },
  {
   "cell_type": "markdown",
   "id": "b1e14bae-22c7-4146-8e5a-056d5401467f",
   "metadata": {},
   "source": [
    "## Exercise 5"
   ]
  },
  {
   "cell_type": "code",
   "execution_count": 6,
   "id": "24abd8b8-27a1-41cf-a801-df77c92daec8",
   "metadata": {},
   "outputs": [
    {
     "data": {
      "text/plain": [
       "array([ 1,  6, 11, 16])"
      ]
     },
     "execution_count": 6,
     "metadata": {},
     "output_type": "execute_result"
    }
   ],
   "source": [
    "e = np.arange(1, 26, dtype=np.int64).reshape(5, 5)\n",
    "a = as_strided(e, shape=(4,), strides=(e.itemsize * e.shape[1],))\n",
    "assert np.array_equal(a, e[:4, 0])\n",
    "a"
   ]
  },
  {
   "cell_type": "markdown",
   "id": "fad09cd9-f4b6-4206-906b-7f3b720cf4df",
   "metadata": {},
   "source": [
    "## Exercise 6"
   ]
  },
  {
   "cell_type": "code",
   "execution_count": 7,
   "id": "1d9d5756-d996-4635-8b38-989d30c5245f",
   "metadata": {},
   "outputs": [
    {
     "data": {
      "text/plain": [
       "array([ 1,  7, 13, 19, 25])"
      ]
     },
     "execution_count": 7,
     "metadata": {},
     "output_type": "execute_result"
    }
   ],
   "source": [
    "e = np.arange(1, 26, dtype=np.int64).reshape(5, 5)\n",
    "a = as_strided(e, shape=(e.shape[0],), strides=(e.itemsize * (e.shape[1] + 1),))\n",
    "assert np.array_equal(a, e.diagonal())\n",
    "a"
   ]
  },
  {
   "cell_type": "markdown",
   "id": "5e2e8c28-9b07-4f27-a99f-1650e574412e",
   "metadata": {},
   "source": [
    "## Exercise 7"
   ]
  },
  {
   "cell_type": "code",
   "execution_count": 8,
   "id": "27a1609c-2d52-4b6d-bee1-e39883343ee9",
   "metadata": {},
   "outputs": [
    {
     "data": {
      "text/plain": [
       "array([1, 1, 1, 1, 1])"
      ]
     },
     "execution_count": 8,
     "metadata": {},
     "output_type": "execute_result"
    }
   ],
   "source": [
    "e = np.arange(1, 26, dtype=np.int64).reshape(5, 5)\n",
    "a = as_strided(e, shape=(5,), strides=(0,))\n",
    "assert np.array_equal(a, np.broadcast_to(e[0, 0], (5,)))\n",
    "a"
   ]
  },
  {
   "cell_type": "markdown",
   "id": "2d94edb8-4b44-4274-9a64-956605b3532d",
   "metadata": {},
   "source": [
    "## Exercise 8"
   ]
  },
  {
   "cell_type": "code",
   "execution_count": 9,
   "id": "ab063ce0-b87f-4a9d-bb23-d0099b54fac3",
   "metadata": {},
   "outputs": [
    {
     "data": {
      "text/plain": [
       "array([[ 1,  2,  3,  4],\n",
       "       [ 6,  7,  8,  9],\n",
       "       [11, 12, 13, 14]])"
      ]
     },
     "execution_count": 9,
     "metadata": {},
     "output_type": "execute_result"
    }
   ],
   "source": [
    "e = np.arange(1, 26, dtype=np.int64).reshape(5, 5)\n",
    "a = as_strided(e, shape=(3, 4), strides=(e.itemsize * e.shape[1], e.itemsize * 1))\n",
    "assert np.array_equal(a, e[0:3, :4])\n",
    "a"
   ]
  },
  {
   "cell_type": "markdown",
   "id": "1af9ac21-5377-4ba8-946c-bfd0fba5908b",
   "metadata": {},
   "source": [
    "## Exercise 9"
   ]
  },
  {
   "cell_type": "code",
   "execution_count": 10,
   "id": "e8b8e542-4fcc-45d2-b1fb-dcceb6179540",
   "metadata": {},
   "outputs": [
    {
     "data": {
      "text/plain": [
       "array([[ 1,  2],\n",
       "       [ 7,  8],\n",
       "       [13, 14],\n",
       "       [19, 20]])"
      ]
     },
     "execution_count": 10,
     "metadata": {},
     "output_type": "execute_result"
    }
   ],
   "source": [
    "e = np.arange(1, 26, dtype=np.int64).reshape(5, 5)\n",
    "a = as_strided(e, shape=(4, 2), strides=(e.itemsize * (e.shape[1] + 1), e.itemsize * 1))\n",
    "a"
   ]
  },
  {
   "cell_type": "markdown",
   "id": "a58287fb-05a3-433e-bfe6-e2fbab7156dd",
   "metadata": {},
   "source": [
    "## Exercise 10"
   ]
  },
  {
   "cell_type": "code",
   "execution_count": 11,
   "id": "574b3604-9934-4bcc-883e-9134a63103d0",
   "metadata": {},
   "outputs": [
    {
     "data": {
      "text/plain": [
       "array([[ 1,  3,  5],\n",
       "       [11, 13, 15],\n",
       "       [21, 23, 25]])"
      ]
     },
     "execution_count": 11,
     "metadata": {},
     "output_type": "execute_result"
    }
   ],
   "source": [
    "e = np.arange(1, 26, dtype=np.int64).reshape(5, 5)\n",
    "a = as_strided(e, shape=(3, 3), strides=(e.itemsize * e.shape[1] * 2, e.itemsize * 2))\n",
    "assert np.array_equal(a, e[::2, ::2])\n",
    "a"
   ]
  },
  {
   "cell_type": "markdown",
   "id": "e3e1bbec-6f0b-48f8-8317-7384579af8ff",
   "metadata": {},
   "source": [
    "## Exercise 11"
   ]
  },
  {
   "cell_type": "code",
   "execution_count": 12,
   "id": "17f2abca-0ec6-49c7-9c05-087404a8a4c4",
   "metadata": {},
   "outputs": [
    {
     "data": {
      "text/plain": [
       "array([[ 1,  6, 11],\n",
       "       [ 2,  7, 12],\n",
       "       [ 3,  8, 13]], dtype=int8)"
      ]
     },
     "execution_count": 12,
     "metadata": {},
     "output_type": "execute_result"
    }
   ],
   "source": [
    "e = np.arange(1, 26, dtype=np.int8).reshape(5, 5)\n",
    "a = as_strided(e, shape=(3, 3), strides=(e.itemsize * 1, e.itemsize * e.shape[1]))\n",
    "assert np.array_equal(a, e[:3, :3].T)\n",
    "a"
   ]
  },
  {
   "cell_type": "markdown",
   "id": "b86e4ed3-ae39-4ea2-9b45-0508337735dc",
   "metadata": {},
   "source": [
    "## Exercise 12"
   ]
  },
  {
   "cell_type": "code",
   "execution_count": 13,
   "id": "28bfc84b-cbac-4b04-a4a4-8ff676c886d8",
   "metadata": {},
   "outputs": [
    {
     "data": {
      "text/plain": [
       "array([[ 1,  1,  1,  1],\n",
       "       [ 6,  6,  6,  6],\n",
       "       [11, 11, 11, 11],\n",
       "       [16, 16, 16, 16],\n",
       "       [21, 21, 21, 21]], dtype=int32)"
      ]
     },
     "execution_count": 13,
     "metadata": {},
     "output_type": "execute_result"
    }
   ],
   "source": [
    "e = np.arange(1, 26, dtype=np.int32).reshape(5, 5)\n",
    "a = as_strided(e, shape=(e.shape[0], 4), strides=(e.itemsize * e.shape[1], 0))\n",
    "assert np.array_equal(a, np.broadcast_to(e[:, 0, None], (5, 4)))\n",
    "a"
   ]
  },
  {
   "cell_type": "markdown",
   "id": "c53d7014-79d1-4610-b07a-9cb83b6be476",
   "metadata": {},
   "source": [
    "## Exercise 13"
   ]
  },
  {
   "cell_type": "code",
   "execution_count": 14,
   "id": "a158e760-258b-4c00-a674-2406a84fce4d",
   "metadata": {},
   "outputs": [
    {
     "data": {
      "text/plain": [
       "array([[ 1,  2,  3],\n",
       "       [ 4,  5,  6],\n",
       "       [ 7,  8,  9],\n",
       "       [10, 11, 12]], dtype=int32)"
      ]
     },
     "execution_count": 14,
     "metadata": {},
     "output_type": "execute_result"
    }
   ],
   "source": [
    "e = np.arange(1, 13, dtype=np.int32)\n",
    "a = as_strided(e, shape=(4, 3), strides=(e.itemsize * 3, e.itemsize * 1))\n",
    "assert np.array_equal(a, e.reshape(4, 3))\n",
    "a"
   ]
  },
  {
   "cell_type": "markdown",
   "id": "dceb2213-91e1-4d20-a376-39018826472f",
   "metadata": {},
   "source": [
    "## Exercise 14"
   ]
  },
  {
   "cell_type": "code",
   "execution_count": 15,
   "id": "788ca839-92aa-4aa4-9006-80394cd5fd8b",
   "metadata": {},
   "outputs": [
    {
     "data": {
      "text/plain": [
       "array([[ 1,  2,  3],\n",
       "       [ 2,  3,  4],\n",
       "       [ 3,  4,  5],\n",
       "       [ 4,  5,  6],\n",
       "       [ 5,  6,  7],\n",
       "       [ 6,  7,  8],\n",
       "       [ 7,  8,  9],\n",
       "       [ 8,  9, 10]], dtype=int8)"
      ]
     },
     "execution_count": 15,
     "metadata": {},
     "output_type": "execute_result"
    }
   ],
   "source": [
    "e = np.arange(1, 11, dtype=np.int8)\n",
    "a = as_strided(e, shape=(8, 3), strides=(e.itemsize * 1, e.itemsize * 1))\n",
    "a"
   ]
  },
  {
   "cell_type": "markdown",
   "id": "40d17566-997b-44bb-874e-2a3de9b19413",
   "metadata": {},
   "source": [
    "## Exercise 15"
   ]
  },
  {
   "cell_type": "code",
   "execution_count": 16,
   "id": "a571d39b-f190-43fb-8719-bceea48b7053",
   "metadata": {},
   "outputs": [
    {
     "data": {
      "text/plain": [
       "array([[ 0,  1, 10, 11, 20, 21],\n",
       "       [10, 11, 20, 21, 30, 31],\n",
       "       [20, 21, 30, 31, 40, 41],\n",
       "       [30, 31, 40, 41, 50, 51]], dtype=int8)"
      ]
     },
     "execution_count": 16,
     "metadata": {},
     "output_type": "execute_result"
    }
   ],
   "source": [
    "e = np.asarray([0, 1, 10, 11, 20, 21, 30, 31, 40, 41, 50, 51], dtype=np.int8).reshape(\n",
    "    6, 2\n",
    ")\n",
    "a = as_strided(e, shape=(4, 6), strides=(e.itemsize * e.shape[1], e.itemsize * 1))\n",
    "a"
   ]
  },
  {
   "cell_type": "markdown",
   "id": "482f3f55-b248-4658-b7a6-07432938e3df",
   "metadata": {},
   "source": [
    "## Exercise 16"
   ]
  },
  {
   "cell_type": "code",
   "execution_count": 17,
   "id": "1fd68ebe-b97e-4613-94f3-f48ccbc99c6b",
   "metadata": {},
   "outputs": [
    {
     "data": {
      "text/plain": [
       "array([[ 1,  2,  3,  4],\n",
       "       [ 5,  6,  7,  8],\n",
       "       [ 9, 10, 11, 12]], dtype=int8)"
      ]
     },
     "execution_count": 17,
     "metadata": {},
     "output_type": "execute_result"
    }
   ],
   "source": [
    "e = np.arange(1, 13, dtype=np.int8).reshape(3, 2, 2)\n",
    "a = as_strided(e, shape=(3, 4), strides=(e.itemsize * 4, e.itemsize * 1))\n",
    "assert np.array_equal(a, e.reshape(3, 4))\n",
    "a"
   ]
  },
  {
   "cell_type": "markdown",
   "id": "12854269-0d03-46de-83ae-8cd3fe1519fb",
   "metadata": {},
   "source": [
    "## Exercise 17"
   ]
  },
  {
   "cell_type": "code",
   "execution_count": 18,
   "id": "bc386722-661d-4bc9-9149-227c8fc9bab6",
   "metadata": {},
   "outputs": [
    {
     "data": {
      "text/plain": [
       "array([[[ 1,  2],\n",
       "        [ 6,  7]],\n",
       "\n",
       "       [[16, 17],\n",
       "        [21, 22]]], dtype=int16)"
      ]
     },
     "execution_count": 18,
     "metadata": {},
     "output_type": "execute_result"
    }
   ],
   "source": [
    "e = np.arange(1, 26, dtype=np.int16).reshape(5, 5)\n",
    "a = as_strided(\n",
    "    e, shape=(2, 2, 2), strides=(e.itemsize * 5 * 3, e.itemsize * 5, e.itemsize * 1)\n",
    ")\n",
    "a"
   ]
  },
  {
   "cell_type": "markdown",
   "id": "8752ea1d-66fc-4747-96a1-74db061f2473",
   "metadata": {},
   "source": [
    "## Exercise 18"
   ]
  },
  {
   "cell_type": "code",
   "execution_count": 19,
   "id": "950c1f94-14a4-43df-8d55-db573c35090f",
   "metadata": {},
   "outputs": [
    {
     "data": {
      "text/plain": [
       "array([[[ 1,  2,  3],\n",
       "        [ 7,  8,  9]],\n",
       "\n",
       "       [[11, 12, 13],\n",
       "        [17, 18, 19]]], dtype=int8)"
      ]
     },
     "execution_count": 19,
     "metadata": {},
     "output_type": "execute_result"
    }
   ],
   "source": [
    "e = np.arange(1, 26, dtype=np.int8).reshape(5, 5)\n",
    "a = as_strided(\n",
    "    e,\n",
    "    shape=(2, 2, 3),\n",
    "    strides=(e.itemsize * e.shape[1] * 2, e.itemsize * (e.shape[1] + 1), e.itemsize * 1),\n",
    ")\n",
    "a"
   ]
  },
  {
   "cell_type": "markdown",
   "id": "307281ff-bf94-40e7-9010-46bffec0689f",
   "metadata": {},
   "source": [
    "## Exercise 19"
   ]
  },
  {
   "cell_type": "code",
   "execution_count": 20,
   "id": "f227ab4a-cee3-44d7-84d9-b21a33e1fde4",
   "metadata": {},
   "outputs": [
    {
     "data": {
      "text/plain": [
       "array([[[1, 2, 3, 4],\n",
       "        [6, 7, 8, 9]],\n",
       "\n",
       "       [[1, 2, 3, 4],\n",
       "        [6, 7, 8, 9]],\n",
       "\n",
       "       [[1, 2, 3, 4],\n",
       "        [6, 7, 8, 9]]], dtype=int16)"
      ]
     },
     "execution_count": 20,
     "metadata": {},
     "output_type": "execute_result"
    }
   ],
   "source": [
    "e = np.arange(1, 26, dtype=np.int16).reshape(5, 5)\n",
    "a = as_strided(e, shape=(3, 2, 4), strides=(0, e.itemsize * e.shape[1], e.itemsize * 1))\n",
    "assert np.array_equal(a, np.broadcast_to(e[0:2, 0:-1], (3, 2, 4)))\n",
    "a"
   ]
  },
  {
   "cell_type": "markdown",
   "id": "e5840788-9770-49e3-824e-4fef684cc9b9",
   "metadata": {},
   "source": [
    "## Exercise 20"
   ]
  },
  {
   "cell_type": "code",
   "execution_count": 21,
   "id": "ec518120-ece4-4759-8230-517c602ca394",
   "metadata": {},
   "outputs": [
    {
     "data": {
      "text/plain": [
       "array([[[ 1,  3],\n",
       "        [ 2,  4]],\n",
       "\n",
       "       [[ 5,  7],\n",
       "        [ 6,  8]],\n",
       "\n",
       "       [[ 9, 11],\n",
       "        [10, 12]]], dtype=int32)"
      ]
     },
     "execution_count": 21,
     "metadata": {},
     "output_type": "execute_result"
    }
   ],
   "source": [
    "e = np.arange(1, 13, dtype=np.int32).reshape(3, 2, 2)\n",
    "a = as_strided(\n",
    "    e,\n",
    "    shape=(3, 2, 2),\n",
    "    strides=(\n",
    "        e.itemsize * e.shape[1] * e.shape[2],\n",
    "        e.itemsize * 1,\n",
    "        e.itemsize * e.shape[1],\n",
    "    ),\n",
    ")\n",
    "assert np.array_equal(a, np.swapaxes(e, 1, 2))\n",
    "a"
   ]
  },
  {
   "cell_type": "markdown",
   "id": "7da84726-4a9d-40be-936a-1a78582260b2",
   "metadata": {},
   "source": [
    "## Exercise 21"
   ]
  },
  {
   "cell_type": "code",
   "execution_count": 22,
   "id": "efd3a69c-283b-469a-b8e0-4c6f46ec5728",
   "metadata": {},
   "outputs": [
    {
     "data": {
      "text/plain": [
       "array([[[ 1,  2,  3,  4,  5],\n",
       "        [ 6,  7,  8,  9, 10]],\n",
       "\n",
       "       [[ 6,  7,  8,  9, 10],\n",
       "        [11, 12, 13, 14, 15]],\n",
       "\n",
       "       [[11, 12, 13, 14, 15],\n",
       "        [16, 17, 18, 19, 20]]])"
      ]
     },
     "execution_count": 22,
     "metadata": {},
     "output_type": "execute_result"
    }
   ],
   "source": [
    "e = np.arange(1, 21, dtype=np.int64).reshape(4, 5)\n",
    "a = as_strided(\n",
    "    e,\n",
    "    shape=(3, 2, 5),\n",
    "    strides=(e.itemsize * e.shape[1], e.itemsize * e.shape[1], e.itemsize * 1),\n",
    ")\n",
    "a"
   ]
  },
  {
   "cell_type": "markdown",
   "id": "e373abac-7907-4bcd-aae8-ecb103bab2f6",
   "metadata": {},
   "source": [
    "## Exercise 22"
   ]
  },
  {
   "cell_type": "code",
   "execution_count": 23,
   "id": "757bdf42-5b67-49fd-ba30-5db7c1dac7b0",
   "metadata": {},
   "outputs": [
    {
     "data": {
      "text/plain": [
       "array([[[ 1,  2,  3],\n",
       "        [ 4,  5,  6]],\n",
       "\n",
       "       [[ 7,  8,  9],\n",
       "        [10, 11, 12]]], dtype=int8)"
      ]
     },
     "execution_count": 23,
     "metadata": {},
     "output_type": "execute_result"
    }
   ],
   "source": [
    "e = np.arange(1, 13, dtype=np.int8)\n",
    "a = as_strided(\n",
    "    e, shape=(2, 2, 3), strides=(e.itemsize * 3 * 2, e.itemsize * 3, e.itemsize * 1)\n",
    ")\n",
    "assert np.array_equal(a, e.reshape(2, 2, 3))\n",
    "a"
   ]
  },
  {
   "cell_type": "markdown",
   "id": "d1b78a18-e6c2-43b7-becb-d431311ae039",
   "metadata": {},
   "source": [
    "## Exercise 23"
   ]
  },
  {
   "cell_type": "code",
   "execution_count": 24,
   "id": "0cd21a04-bb21-4730-aba2-2ffeb49d73d5",
   "metadata": {},
   "outputs": [
    {
     "data": {
      "text/plain": [
       "array([[[[ 1,  2,  3],\n",
       "         [ 6,  7,  8],\n",
       "         [11, 12, 13]],\n",
       "\n",
       "        [[ 3,  4,  5],\n",
       "         [ 8,  9, 10],\n",
       "         [13, 14, 15]]],\n",
       "\n",
       "\n",
       "       [[[11, 12, 13],\n",
       "         [16, 17, 18],\n",
       "         [21, 22, 23]],\n",
       "\n",
       "        [[13, 14, 15],\n",
       "         [18, 19, 20],\n",
       "         [23, 24, 25]]]], dtype=int8)"
      ]
     },
     "execution_count": 24,
     "metadata": {},
     "output_type": "execute_result"
    }
   ],
   "source": [
    "e = np.arange(1, 26, dtype=np.int8).reshape(5, 5)\n",
    "a = as_strided(\n",
    "    e,\n",
    "    shape=(2, 2, 3, 3),\n",
    "    strides=(\n",
    "        e.itemsize * e.shape[1] * 2,\n",
    "        e.itemsize * 2,\n",
    "        e.itemsize * e.shape[1],\n",
    "        e.itemsize * 1,\n",
    "    ),\n",
    ")\n",
    "a"
   ]
  },
  {
   "cell_type": "markdown",
   "id": "29cfcd01-102e-4c80-b4ab-b0667b821bfd",
   "metadata": {},
   "source": [
    "## Exercise 24"
   ]
  },
  {
   "cell_type": "code",
   "execution_count": 25,
   "id": "4ed9347e-8fa7-4e7b-92bc-17309be2baff",
   "metadata": {},
   "outputs": [
    {
     "data": {
      "text/plain": [
       "array([[[[ 1,  2,  3],\n",
       "         [ 4,  5,  6]],\n",
       "\n",
       "        [[ 1,  2,  3],\n",
       "         [ 4,  5,  6]]],\n",
       "\n",
       "\n",
       "       [[[ 7,  8,  9],\n",
       "         [10, 11, 12]],\n",
       "\n",
       "        [[ 7,  8,  9],\n",
       "         [10, 11, 12]]]])"
      ]
     },
     "execution_count": 25,
     "metadata": {},
     "output_type": "execute_result"
    }
   ],
   "source": [
    "e = np.arange(1, 13, dtype=np.int64).reshape(2, 2, 3)\n",
    "a = as_strided(\n",
    "    e,\n",
    "    shape=(2, 2, 2, 3),\n",
    "    strides=(e.itemsize * e.shape[2] * 2, 0, e.itemsize * e.shape[2], e.itemsize * 1),\n",
    ")\n",
    "assert np.array_equal(a, np.broadcast_to(e, (2, 2, 2, 3)).swapaxes(0, 1))\n",
    "a"
   ]
  },
  {
   "cell_type": "markdown",
   "id": "62cba050-faf9-4d57-aed0-b471e0793fd1",
   "metadata": {},
   "source": [
    "## Exercise 25"
   ]
  },
  {
   "cell_type": "code",
   "execution_count": 26,
   "id": "5c534927-6867-4ebd-a476-fa2ae1d58d96",
   "metadata": {},
   "outputs": [
    {
     "data": {
      "text/plain": [
       "array([[[[ 1,  2],\n",
       "         [ 3,  4]],\n",
       "\n",
       "        [[ 5,  6],\n",
       "         [ 7,  8]]],\n",
       "\n",
       "\n",
       "       [[[ 9, 10],\n",
       "         [11, 12]],\n",
       "\n",
       "        [[13, 14],\n",
       "         [15, 16]]]])"
      ]
     },
     "execution_count": 26,
     "metadata": {},
     "output_type": "execute_result"
    }
   ],
   "source": [
    "e = np.arange(1, 17, dtype=np.int64)\n",
    "a = as_strided(\n",
    "    e,\n",
    "    shape=(2, 2, 2, 2),\n",
    "    strides=(e.itemsize * 4 * 2, e.itemsize * 4, e.itemsize * 2, e.itemsize * 1),\n",
    ")\n",
    "assert np.array_equal(a, e.reshape(2, 2, 2, 2))\n",
    "a"
   ]
  }
 ],
 "metadata": {
  "kernelspec": {
   "display_name": "Python 3 (ipykernel)",
   "language": "python",
   "name": "python3"
  },
  "language_info": {
   "codemirror_mode": {
    "name": "ipython",
    "version": 3
   },
   "file_extension": ".py",
   "mimetype": "text/x-python",
   "name": "python",
   "nbconvert_exporter": "python",
   "pygments_lexer": "ipython3",
   "version": "3.9.7"
  },
  "toc-showtags": false
 },
 "nbformat": 4,
 "nbformat_minor": 5
}
